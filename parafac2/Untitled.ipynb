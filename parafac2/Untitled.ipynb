{
 "cells": [
  {
   "cell_type": "code",
   "execution_count": 17,
   "id": "f336fb2a-213e-41a2-86d7-b6f7721ca796",
   "metadata": {
    "tags": []
   },
   "outputs": [],
   "source": [
    "from scipy.io import loadmat\n",
    "x = loadmat('ml_factor.mat')"
   ]
  },
  {
   "cell_type": "code",
   "execution_count": 18,
   "id": "22e3d6b1-855c-4ef0-8445-1ab9a3c193c3",
   "metadata": {
    "tags": []
   },
   "outputs": [
    {
     "name": "stdout",
     "output_type": "stream",
     "text": [
      "(1385, 5)\n"
     ]
    }
   ],
   "source": [
    "print(x['S'].shape)"
   ]
  },
  {
   "cell_type": "code",
   "execution_count": 9,
   "id": "08a7e259-3b97-4587-a48f-4e9fe0d09bd7",
   "metadata": {
    "tags": []
   },
   "outputs": [],
   "source": [
    "from scipy.sparse import csr_matrix\n",
    "A = csr_matrix([[1,2,0],[0,0,3],[4,0,5]])\n",
    "A[A.nonzero()].shape"
   ]
  },
  {
   "cell_type": "code",
   "execution_count": 12,
   "id": "37118a44-ca5a-4664-8dab-f51783319bd7",
   "metadata": {
    "tags": []
   },
   "outputs": [],
   "source": [
    "import numpy as np\n",
    "print(np.zeros((2, 2)))"
   ]
  },
  {
   "cell_type": "code",
   "execution_count": 20,
   "id": "932dd228-ec10-469b-8e41-6c1aee45ccfd",
   "metadata": {
    "tags": []
   },
   "outputs": [
    {
     "data": {
      "text/plain": [
       "torch.Size([2, 3])"
      ]
     },
     "execution_count": 20,
     "metadata": {},
     "output_type": "execute_result"
    }
   ],
   "source": [
    "import torch\n",
    "_ten = torch.ones(3,3,3)\n",
    "_ten[[0,1], :, [0,1]].shape"
   ]
  }
 ],
 "metadata": {
  "kernelspec": {
   "display_name": "Python 3 (ipykernel)",
   "language": "python",
   "name": "python3"
  },
  "language_info": {
   "codemirror_mode": {
    "name": "ipython",
    "version": 3
   },
   "file_extension": ".py",
   "mimetype": "text/x-python",
   "name": "python",
   "nbconvert_exporter": "python",
   "pygments_lexer": "ipython3",
   "version": "3.7.10"
  }
 },
 "nbformat": 4,
 "nbformat_minor": 5
}
